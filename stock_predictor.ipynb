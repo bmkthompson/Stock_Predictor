{
 "cells": [
  {
   "cell_type": "code",
   "execution_count": 35,
   "id": "a6117853-8538-44a5-98da-46b7157da932",
   "metadata": {
    "tags": []
   },
   "outputs": [],
   "source": [
    "import yfinance as yf\n",
    "from sklearn.ensemble import RandomForestClassifier\n",
    "from sklearn.metrics import precision_score\n",
    "import pandas as pd"
   ]
  },
  {
   "cell_type": "code",
   "execution_count": 36,
   "id": "58e44cfd-7b48-4d32-bb58-87a8beb1a53e",
   "metadata": {
    "tags": []
   },
   "outputs": [],
   "source": [
    "stock = yf.Ticker(\"^GSPC\")  # Change Ticker Here"
   ]
  },
  {
   "cell_type": "code",
   "execution_count": 37,
   "id": "ca7c5a32-a903-4e7b-b863-d21670c7cf7f",
   "metadata": {
    "tags": []
   },
   "outputs": [],
   "source": [
    "# Retrieving Complete History\n",
    "stock = stock.history(period=\"max\")"
   ]
  },
  {
   "cell_type": "code",
   "execution_count": 38,
   "id": "c249a82c-fc8a-454a-8300-8720ed9237b4",
   "metadata": {
    "tags": []
   },
   "outputs": [],
   "source": [
    "# Removing Unecessary Data\n",
    "del stock[\"Dividends\"]\n",
    "del stock[\"Stock Splits\"]"
   ]
  },
  {
   "cell_type": "code",
   "execution_count": 39,
   "id": "ac79db7b-0171-4a96-852e-1efa3d5c4e20",
   "metadata": {
    "tags": []
   },
   "outputs": [],
   "source": [
    "# Creating Target Column\n",
    "stock[\"Tomorrow\"] = stock[\"Close\"].shift(-1)\n",
    "\n",
    "stock[\"Target\"] = (stock[\"Tomorrow\"] > stock[\"Close\"]).astype(int)"
   ]
  },
  {
   "cell_type": "code",
   "execution_count": 51,
   "id": "5628797b-9185-41fc-b9d9-e13d82fc4756",
   "metadata": {
    "tags": []
   },
   "outputs": [],
   "source": [
    "# Specifying Time Range\n",
    "stock = stock.loc[\"2000-01-01\":].copy()"
   ]
  },
  {
   "cell_type": "code",
   "execution_count": 52,
   "id": "fc2fc48a-03ef-4b9b-96ef-f49939413307",
   "metadata": {
    "tags": []
   },
   "outputs": [
    {
     "data": {
      "text/html": [
       "<style>#sk-container-id-4 {color: black;}#sk-container-id-4 pre{padding: 0;}#sk-container-id-4 div.sk-toggleable {background-color: white;}#sk-container-id-4 label.sk-toggleable__label {cursor: pointer;display: block;width: 100%;margin-bottom: 0;padding: 0.3em;box-sizing: border-box;text-align: center;}#sk-container-id-4 label.sk-toggleable__label-arrow:before {content: \"▸\";float: left;margin-right: 0.25em;color: #696969;}#sk-container-id-4 label.sk-toggleable__label-arrow:hover:before {color: black;}#sk-container-id-4 div.sk-estimator:hover label.sk-toggleable__label-arrow:before {color: black;}#sk-container-id-4 div.sk-toggleable__content {max-height: 0;max-width: 0;overflow: hidden;text-align: left;background-color: #f0f8ff;}#sk-container-id-4 div.sk-toggleable__content pre {margin: 0.2em;color: black;border-radius: 0.25em;background-color: #f0f8ff;}#sk-container-id-4 input.sk-toggleable__control:checked~div.sk-toggleable__content {max-height: 200px;max-width: 100%;overflow: auto;}#sk-container-id-4 input.sk-toggleable__control:checked~label.sk-toggleable__label-arrow:before {content: \"▾\";}#sk-container-id-4 div.sk-estimator input.sk-toggleable__control:checked~label.sk-toggleable__label {background-color: #d4ebff;}#sk-container-id-4 div.sk-label input.sk-toggleable__control:checked~label.sk-toggleable__label {background-color: #d4ebff;}#sk-container-id-4 input.sk-hidden--visually {border: 0;clip: rect(1px 1px 1px 1px);clip: rect(1px, 1px, 1px, 1px);height: 1px;margin: -1px;overflow: hidden;padding: 0;position: absolute;width: 1px;}#sk-container-id-4 div.sk-estimator {font-family: monospace;background-color: #f0f8ff;border: 1px dotted black;border-radius: 0.25em;box-sizing: border-box;margin-bottom: 0.5em;}#sk-container-id-4 div.sk-estimator:hover {background-color: #d4ebff;}#sk-container-id-4 div.sk-parallel-item::after {content: \"\";width: 100%;border-bottom: 1px solid gray;flex-grow: 1;}#sk-container-id-4 div.sk-label:hover label.sk-toggleable__label {background-color: #d4ebff;}#sk-container-id-4 div.sk-serial::before {content: \"\";position: absolute;border-left: 1px solid gray;box-sizing: border-box;top: 0;bottom: 0;left: 50%;z-index: 0;}#sk-container-id-4 div.sk-serial {display: flex;flex-direction: column;align-items: center;background-color: white;padding-right: 0.2em;padding-left: 0.2em;position: relative;}#sk-container-id-4 div.sk-item {position: relative;z-index: 1;}#sk-container-id-4 div.sk-parallel {display: flex;align-items: stretch;justify-content: center;background-color: white;position: relative;}#sk-container-id-4 div.sk-item::before, #sk-container-id-4 div.sk-parallel-item::before {content: \"\";position: absolute;border-left: 1px solid gray;box-sizing: border-box;top: 0;bottom: 0;left: 50%;z-index: -1;}#sk-container-id-4 div.sk-parallel-item {display: flex;flex-direction: column;z-index: 1;position: relative;background-color: white;}#sk-container-id-4 div.sk-parallel-item:first-child::after {align-self: flex-end;width: 50%;}#sk-container-id-4 div.sk-parallel-item:last-child::after {align-self: flex-start;width: 50%;}#sk-container-id-4 div.sk-parallel-item:only-child::after {width: 0;}#sk-container-id-4 div.sk-dashed-wrapped {border: 1px dashed gray;margin: 0 0.4em 0.5em 0.4em;box-sizing: border-box;padding-bottom: 0.4em;background-color: white;}#sk-container-id-4 div.sk-label label {font-family: monospace;font-weight: bold;display: inline-block;line-height: 1.2em;}#sk-container-id-4 div.sk-label-container {text-align: center;}#sk-container-id-4 div.sk-container {/* jupyter's `normalize.less` sets `[hidden] { display: none; }` but bootstrap.min.css set `[hidden] { display: none !important; }` so we also need the `!important` here to be able to override the default hidden behavior on the sphinx rendered scikit-learn.org. See: https://github.com/scikit-learn/scikit-learn/issues/21755 */display: inline-block !important;position: relative;}#sk-container-id-4 div.sk-text-repr-fallback {display: none;}</style><div id=\"sk-container-id-4\" class=\"sk-top-container\"><div class=\"sk-text-repr-fallback\"><pre>RandomForestClassifier(min_samples_split=50, n_estimators=200, random_state=1)</pre><b>In a Jupyter environment, please rerun this cell to show the HTML representation or trust the notebook. <br />On GitHub, the HTML representation is unable to render, please try loading this page with nbviewer.org.</b></div><div class=\"sk-container\" hidden><div class=\"sk-item\"><div class=\"sk-estimator sk-toggleable\"><input class=\"sk-toggleable__control sk-hidden--visually\" id=\"sk-estimator-id-4\" type=\"checkbox\" checked><label for=\"sk-estimator-id-4\" class=\"sk-toggleable__label sk-toggleable__label-arrow\">RandomForestClassifier</label><div class=\"sk-toggleable__content\"><pre>RandomForestClassifier(min_samples_split=50, n_estimators=200, random_state=1)</pre></div></div></div></div></div>"
      ],
      "text/plain": [
       "RandomForestClassifier(min_samples_split=50, n_estimators=200, random_state=1)"
      ]
     },
     "execution_count": 52,
     "metadata": {},
     "output_type": "execute_result"
    }
   ],
   "source": [
    "# Model Creating and Fitting\n",
    "model = RandomForestClassifier(n_estimators=200, min_samples_split=50, random_state=1)\n",
    "\n",
    "train = stock.iloc[:-100]\n",
    "test = stock.iloc[-100:]\n",
    "\n",
    "features = [\"Open\", \"High\", \"Low\", \"Close\", \"Volume\"]\n",
    "model.fit(train[features], train[\"Target\"])"
   ]
  },
  {
   "cell_type": "code",
   "execution_count": 53,
   "id": "0739fd95-3983-4dd2-9a17-ada0197e8c1b",
   "metadata": {
    "tags": []
   },
   "outputs": [
    {
     "data": {
      "text/plain": [
       "1.0"
      ]
     },
     "execution_count": 53,
     "metadata": {},
     "output_type": "execute_result"
    }
   ],
   "source": [
    "# Testing the Model\n",
    "preds = model.predict(test[features])\n",
    "\n",
    "preds = pd.Series(preds, index=test.index)\n",
    "\n",
    "precision_score(test[\"Target\"], preds)"
   ]
  },
  {
   "cell_type": "code",
   "execution_count": 54,
   "id": "934d3650-614e-4f08-bae3-558581226440",
   "metadata": {
    "tags": []
   },
   "outputs": [],
   "source": [
    "# Creating Predict Function\n",
    "def predict(train, test, features, model):\n",
    "    model.fit(train[features], train[\"Target\"])\n",
    "    preds = model.predict_proba(test[features])[:,1]\n",
    "    preds[preds >= .5] = 1\n",
    "    preds[preds < .5] = 0\n",
    "    preds = pd.Series(preds, index=test.index, name=\"Predictions\")\n",
    "    combined = pd.concat([test[\"Target\"], preds], axis=1)\n",
    "    return combined"
   ]
  },
  {
   "cell_type": "code",
   "execution_count": 55,
   "id": "5136fa6d-01b6-40cf-9ba2-010e88edc542",
   "metadata": {
    "tags": []
   },
   "outputs": [],
   "source": [
    "# Creating Backtest Function\n",
    "def backtest(data, model, features, start=2500, step=250):\n",
    "    all_predictions = []\n",
    "    \n",
    "    for i in range(start, data.shape[0], step):\n",
    "        train = data.iloc[0:i].copy()\n",
    "        test = data.iloc[i:(i+step)].copy()\n",
    "        predictions = predict(train, test, features, model)\n",
    "        all_predictions.append(predictions)\n",
    "    return pd.concat(all_predictions)"
   ]
  },
  {
   "cell_type": "code",
   "execution_count": 56,
   "id": "5b39977c-2836-48ad-9f41-31b560d2f113",
   "metadata": {
    "tags": []
   },
   "outputs": [],
   "source": [
    "#Creating Moving Average Data\n",
    "horizons = [2,5,60,250,1000]\n",
    "new_features = []\n",
    "\n",
    "for horizon in horizons:\n",
    "    rolling_averages = stock.rolling(horizon).mean()\n",
    "    \n",
    "    ratio_column = f\"Close_Ratio_{horizon}\"\n",
    "    stock[ratio_column] = stock[\"Close\"] / rolling_averages[\"Close\"]\n",
    "    \n",
    "    trend_column = f\"Trend_{horizon}\"\n",
    "    stock[trend_column] = stock.shift(1).rolling(horizon).sum()[\"Target\"]\n",
    "    \n",
    "    new_features += [ratio_column, trend_column]"
   ]
  },
  {
   "cell_type": "code",
   "execution_count": 57,
   "id": "4e4883fe-a073-45f1-a269-27a6f5e9bd80",
   "metadata": {
    "tags": []
   },
   "outputs": [],
   "source": [
    "stock = stock.dropna()"
   ]
  },
  {
   "cell_type": "code",
   "execution_count": 58,
   "id": "a02aafd7-ca7c-4031-ac75-3dde1030c32b",
   "metadata": {
    "tags": []
   },
   "outputs": [
    {
     "data": {
      "text/plain": [
       "Predictions\n",
       "1.0    1714\n",
       "0.0     924\n",
       "Name: count, dtype: int64"
      ]
     },
     "execution_count": 58,
     "metadata": {},
     "output_type": "execute_result"
    }
   ],
   "source": [
    "predictions = backtest(stock, model, new_features)\n",
    "predictions[\"Predictions\"].value_counts()"
   ]
  },
  {
   "cell_type": "code",
   "execution_count": 59,
   "id": "e518701e-5fcf-45ce-b946-959b1ebfe2cb",
   "metadata": {
    "tags": []
   },
   "outputs": [
    {
     "data": {
      "text/plain": [
       "0.5326721120186698"
      ]
     },
     "execution_count": 59,
     "metadata": {},
     "output_type": "execute_result"
    }
   ],
   "source": [
    "# Evaluating Model Accuracy Percentage\n",
    "precision_score(predictions[\"Target\"], predictions[\"Predictions\"])"
   ]
  },
  {
   "cell_type": "code",
   "execution_count": 50,
   "id": "1cc105f6-37d5-41cb-a7f2-6eb23439f717",
   "metadata": {
    "tags": []
   },
   "outputs": [
    {
     "data": {
      "text/plain": [
       "Target\n",
       "1    0.529011\n",
       "0    0.470989\n",
       "Name: count, dtype: float64"
      ]
     },
     "execution_count": 50,
     "metadata": {},
     "output_type": "execute_result"
    }
   ],
   "source": [
    "#True Stock Evaluation\n",
    "predictions[\"Target\"].value_counts() / predictions.shape[0]"
   ]
  },
  {
   "cell_type": "code",
   "execution_count": null,
   "id": "50ae0884-709c-4a0e-a00f-ef1c565b013d",
   "metadata": {},
   "outputs": [],
   "source": []
  }
 ],
 "metadata": {
  "kernelspec": {
   "display_name": "Python 3 (ipykernel)",
   "language": "python",
   "name": "python3"
  },
  "language_info": {
   "codemirror_mode": {
    "name": "ipython",
    "version": 3
   },
   "file_extension": ".py",
   "mimetype": "text/x-python",
   "name": "python",
   "nbconvert_exporter": "python",
   "pygments_lexer": "ipython3",
   "version": "3.11.5"
  }
 },
 "nbformat": 4,
 "nbformat_minor": 5
}
